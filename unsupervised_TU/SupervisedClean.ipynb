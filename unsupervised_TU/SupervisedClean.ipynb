{
 "cells": [
  {
   "cell_type": "code",
   "execution_count": 1,
   "metadata": {},
   "outputs": [],
   "source": [
    "%load_ext autoreload\n",
    "%autoreload 2"
   ]
  },
  {
   "cell_type": "code",
   "execution_count": 2,
   "metadata": {},
   "outputs": [],
   "source": [
    "import torch\n",
    "import torch.backends.cudnn as cudnn\n",
    "import numpy as np\n",
    "\n",
    "torch.manual_seed(0)\n",
    "np.random.seed(0)\n",
    "cudnn.deterministic = True\n",
    "cudnn.benchmark = False\n",
    "\n",
    "import seaborn as sns\n",
    "import matplotlib.pyplot as plt\n",
    "from aug import TUDataset_aug as TUDataset\n",
    "from torch_geometric.data import DataLoader\n",
    "from gsimclr_pt import simclr, Encoder\n",
    "from arguments import arg_parse\n",
    "import sys\n",
    "\n",
    "from sklearn.metrics.pairwise import cosine_similarity\n",
    "import tqdm.autonotebook as tqdm"
   ]
  },
  {
   "cell_type": "code",
   "execution_count": 3,
   "metadata": {},
   "outputs": [],
   "source": [
    "sns.set_style(\"whitegrid\")"
   ]
  },
  {
   "cell_type": "code",
   "execution_count": 4,
   "metadata": {},
   "outputs": [],
   "source": [
    "class Supervised(torch.nn.Module):\n",
    "    def __init__(self, args):\n",
    "        super(Supervised, self).__init__()\n",
    "    \n",
    "        self.args = args\n",
    "        self.encoder = Encoder(args.dataset_num_features, args.hidden_dim, args.num_gc_layers)\n",
    "        self.embedding_dim = mi_units = args.hidden_dim * args.num_gc_layers\n",
    "        self.classifer = torch.nn.Linear(self.embedding_dim,args.num_labels)\n",
    "\n",
    "        if args.bn_int == True:\n",
    "            self.bn_int = torch.nn.BatchNorm1d(args.hidden_dim) \n",
    "        else:\n",
    "            self.bn_int = None\n",
    "\n",
    "        self.init_emb()\n",
    "    def init_emb(self):\n",
    "        initrange = -1.5 / self.embedding_dim\n",
    "        for m in self.modules():\n",
    "            if isinstance(m, torch.nn.Linear):\n",
    "                torch.nn.init.xavier_uniform_(m.weight.data)\n",
    "                if m.bias is not None:\n",
    "                    m.bias.data.fill_(0.0)\n",
    "    \n",
    "    def forward(self, x, edge_index, batch, num_graphs):\n",
    "        # batch_size = data.num_graphs\n",
    "        if x is None:\n",
    "            x = torch.ones(batch.shape[0]).to(device)\n",
    "        y, M = self.encoder(x, edge_index, batch)\n",
    "        \n",
    "        if self.bn_int is not None:\n",
    "            y = self.bn_int(y)\n",
    "        y = self.classifer(y)\n",
    "        return y"
   ]
  },
  {
   "cell_type": "code",
   "execution_count": 5,
   "metadata": {},
   "outputs": [],
   "source": [
    "def test(net, data_loader, device):\n",
    "    net.eval()\n",
    "    correct = 0\n",
    "    for data in data_loader:\n",
    "        data,_  = data\n",
    "        data.to(device)\n",
    "        pred = net(data.x, data.edge_index, data.batch, data.num_graphs)\n",
    "        pred = pred.argmax(dim=1)\n",
    "        target = data.y\n",
    "        correct += pred.eq(target).sum().item()\n",
    "\n",
    "    acc = correct / data_loader.dataset.__len__()\n",
    "    return acc"
   ]
  },
  {
   "cell_type": "markdown",
   "metadata": {},
   "source": [
    "## Load Data"
   ]
  },
  {
   "cell_type": "code",
   "execution_count": 6,
   "metadata": {},
   "outputs": [
    {
     "name": "stdout",
     "output_type": "stream",
     "text": [
      "Downloading http://ls11-www.cs.tu-dortmund.de/people/morris/graphkerneldatasets/MUTAG.zip\n",
      "Extracting /home/sc/eslubana/graphssl/GraphCL/unsupervised_TU/data/MUTAG/MUTAG/MUTAG.zip\n",
      "Processing...\n",
      "Done!\n",
      "Train vs. Test:  169 188\n"
     ]
    }
   ],
   "source": [
    "### define dataloader to be shared over random and trained models\n",
    "DS = 'MUTAG'\n",
    "\n",
    "sys.argv = [\".. \",'--DS={}'.format(DS)]\n",
    "args = arg_parse() \n",
    "args.seed=3\n",
    "args.batch_size = 128\n",
    "args.bn_int = False\n",
    "args.epochs = 30\n",
    "args.lr = 0.01\n",
    "args.num_gc_layers = 3\n",
    "args.prior =False\n",
    "\n",
    "if DS == 'COLLAB':\n",
    "    args.num_labels = 3\n",
    "    args.aug = 'random4'\n",
    "\n",
    "else:\n",
    "    args.num_labels=2\n",
    "    args.aug = 'random2'\n",
    "\n",
    "\n",
    "dataset = TUDataset(\"/home/sc/eslubana/graphssl/GraphCL/unsupervised_TU/data/{}\".format(DS), name=DS, aug=args.aug)\n",
    "dataset_eval = TUDataset(\"/home/sc/eslubana/graphssl/GraphCL/unsupervised_TU/data/{}\".format(DS), name=DS, aug=\"none\")\n",
    "\n",
    "args.dataset_num_features = dataset_eval[0][0].num_node_features\n",
    "\n",
    "train_test_split = int(np.floor(len(dataset)*0.9))\n",
    "idx = list(np.random.permutation(len(dataset_eval)))\n",
    "\n",
    "print(\"Train vs. Test: \",train_test_split, len(dataset))\n",
    "\n",
    "dataloader = DataLoader(dataset[idx[0:train_test_split]], batch_size=args.batch_size,shuffle=False)\n",
    "dataloader_eval = DataLoader(dataset[idx[train_test_split:]], batch_size=args.batch_size,shuffle=False)"
   ]
  },
  {
   "cell_type": "markdown",
   "metadata": {},
   "source": [
    "## MixUp!"
   ]
  },
  {
   "cell_type": "code",
   "execution_count": 13,
   "metadata": {},
   "outputs": [],
   "source": [
    "for sample in dataloader:\n",
    "    break"
   ]
  },
  {
   "cell_type": "code",
   "execution_count": 14,
   "metadata": {},
   "outputs": [],
   "source": [
    "sample = sample[0]"
   ]
  },
  {
   "cell_type": "code",
   "execution_count": 20,
   "metadata": {},
   "outputs": [
    {
     "data": {
      "text/plain": [
       "128"
      ]
     },
     "execution_count": 20,
     "metadata": {},
     "output_type": "execute_result"
    }
   ],
   "source": [
    "sample.num_graphs"
   ]
  },
  {
   "cell_type": "code",
   "execution_count": 19,
   "metadata": {},
   "outputs": [
    {
     "data": {
      "text/plain": [
       "tensor([[   0,    0,    1,  ..., 2246, 2247, 2248],\n",
       "        [   1,    9,    0,  ..., 2246, 2247, 2248]])"
      ]
     },
     "execution_count": 19,
     "metadata": {},
     "output_type": "execute_result"
    }
   ],
   "source": [
    "sample.edge_index"
   ]
  },
  {
   "cell_type": "code",
   "execution_count": 24,
   "metadata": {},
   "outputs": [
    {
     "data": {
      "text/plain": [
       "tensor([ 94, 121, 123,  98,  24,  80,  64,   4,  75,  14,   7,  38, 108,  37,\n",
       "        109,  48,  95, 101,  60,  11,  63, 110,  29,  34,  27,  99,  67, 105,\n",
       "          0,  97,  92, 119,  35,  89,  72,  25,  30,  26, 120,  32, 126,  68,\n",
       "         96,  44,   6, 127, 106,  31,  56,  21,  86,  15, 112,  91,  90,  20,\n",
       "         50,  59, 116,  62, 103,   8,  12,  54,  77,  43,  58,  41,  46,  79,\n",
       "          5,  17, 107,  76,  28, 114,  70,  45,  69,  83, 122,  88,  36,  53,\n",
       "         39,  57, 115,  82,  42,  13,  93,  85,   2,   3,  49,  19,   1,  33,\n",
       "        125,  47,  66, 113,  10, 111,  40, 100, 118,  78,  71,  52, 117, 102,\n",
       "         51,  81,  16,  61,  18,  74,  87,   9, 104,  65,  22,  55,  23, 124,\n",
       "         84,  73])"
      ]
     },
     "execution_count": 24,
     "metadata": {},
     "output_type": "execute_result"
    }
   ],
   "source": [
    "alpha = 1.\n",
    "beta = torch.distributions.beta.Beta(alpha, alpha)\n",
    "#shuffle on batchsize\n",
    "randind = torch.randperm(sample.num_graphs, device=sample.edge_index.device)\n",
    "randind"
   ]
  },
  {
   "cell_type": "code",
   "execution_count": 26,
   "metadata": {},
   "outputs": [
    {
     "data": {
      "text/plain": [
       "tensor([0.7665, 0.7160, 0.7792, 0.9706, 0.5464, 0.8986, 0.9390, 0.5141, 0.9137,\n",
       "        0.8952, 0.6564, 0.5793, 0.6264, 0.7888, 0.6231, 0.6706, 0.7214, 0.8503,\n",
       "        0.9368, 0.5031, 0.6954, 0.8532, 0.7800, 0.8139, 0.5843, 0.9006, 0.6502,\n",
       "        0.7048, 0.9701, 0.9596, 0.8273, 0.8744, 0.5138, 0.5473, 0.5457, 0.7727,\n",
       "        0.7894, 0.5110, 0.6307, 0.8525, 0.9864, 0.6867, 0.6926, 0.9391, 0.7805,\n",
       "        0.5191, 0.7217, 0.7628, 0.5232, 0.6633, 0.6293, 0.7630, 0.8345, 0.8869,\n",
       "        0.6988, 0.5396, 0.5240, 0.5166, 0.7689, 0.6458, 0.7861, 0.9998, 0.6164,\n",
       "        0.7646, 0.6589, 0.6933, 0.9044, 0.8820, 0.5495, 0.5012, 0.6982, 0.8366,\n",
       "        0.8541, 0.8876, 0.6043, 0.9266, 0.6468, 0.5655, 0.8032, 0.5688, 0.6496,\n",
       "        0.5074, 0.9670, 0.6721, 0.8590, 0.6314, 0.7908, 0.8863, 0.8927, 0.9261,\n",
       "        0.8217, 0.5944, 0.5954, 0.7951, 0.8130, 0.7058, 0.7985, 0.9203, 0.7202,\n",
       "        0.9948, 0.8394, 0.7016, 0.8530, 0.5292, 0.8269, 0.8942, 0.6440, 0.5189,\n",
       "        0.7588, 0.9449, 0.6244, 0.5461, 0.5148, 0.8339, 0.6927, 0.7540, 0.6353,\n",
       "        0.5019, 0.6172, 0.6223, 0.8814, 0.8077, 0.8175, 0.9402, 0.7321, 0.7261,\n",
       "        0.7075, 0.9253])"
      ]
     },
     "execution_count": 26,
     "metadata": {},
     "output_type": "execute_result"
    }
   ],
   "source": [
    "lam = beta.sample([sample.num_graphs]).to(device=sample.edge_index.device)\n",
    "lam = torch.max(lam, 1. - lam)\n",
    "lam\n",
    "#lam_expanded = lam.view([-1] + [1]*(input['adj'].dim()-1))"
   ]
  },
  {
   "cell_type": "code",
   "execution_count": 34,
   "metadata": {},
   "outputs": [],
   "source": [
    "ids, counts = torch.unique(sample.batch,return_counts=True)"
   ]
  },
  {
   "cell_type": "code",
   "execution_count": 54,
   "metadata": {},
   "outputs": [],
   "source": [
    "end_idx = torch.cat([torch.Tensor([0]),torch.cumsum(counts,dim=0)]).int()\n",
    "tups = []\n",
    "for i,j in zip(end_idx, end_idx[1:]):\n",
    "    tups.append((i.item(),j.item()))"
   ]
  },
  {
   "cell_type": "code",
   "execution_count": 74,
   "metadata": {},
   "outputs": [],
   "source": [
    "batched_x, batched_mask = geom.utils.to_dense_batch(sample.x, batch=sample.batch)"
   ]
  },
  {
   "cell_type": "code",
   "execution_count": 75,
   "metadata": {},
   "outputs": [
    {
     "data": {
      "text/plain": [
       "(torch.Size([128, 28, 7]), torch.Size([128, 28]))"
      ]
     },
     "execution_count": 75,
     "metadata": {},
     "output_type": "execute_result"
    }
   ],
   "source": [
    "batched_x.shape, batched_mask.shape"
   ]
  },
  {
   "cell_type": "code",
   "execution_count": 61,
   "metadata": {},
   "outputs": [],
   "source": [
    "lam_expanded = lam.view([-1] + [1]*(3-1))"
   ]
  },
  {
   "cell_type": "code",
   "execution_count": 67,
   "metadata": {},
   "outputs": [
    {
     "ename": "NameError",
     "evalue": "name 'geom' is not defined",
     "output_type": "error",
     "traceback": [
      "\u001b[0;31m---------------------------------------------------------------------------\u001b[0m",
      "\u001b[0;31mNameError\u001b[0m                                 Traceback (most recent call last)",
      "\u001b[0;32m<ipython-input-67-fc7302dfc504>\u001b[0m in \u001b[0;36m<module>\u001b[0;34m()\u001b[0m\n\u001b[0;32m----> 1\u001b[0;31m \u001b[0msample_x\u001b[0m \u001b[0;34m=\u001b[0m \u001b[0mgeom\u001b[0m\u001b[0;34m.\u001b[0m\u001b[0mutils\u001b[0m\u001b[0;34m.\u001b[0m\u001b[0mto_dense_batch\u001b[0m\u001b[0;34m(\u001b[0m\u001b[0msamplex\u001b[0m\u001b[0;34m,\u001b[0m \u001b[0mbatch\u001b[0m\u001b[0;34m=\u001b[0m\u001b[0msample\u001b[0m\u001b[0;34m.\u001b[0m\u001b[0mbatch\u001b[0m\u001b[0;34m,\u001b[0m \u001b[0mfill_value\u001b[0m\u001b[0;34m=\u001b[0m\u001b[0;36m0\u001b[0m\u001b[0;34m,\u001b[0m \u001b[0mmax_num_nodes\u001b[0m\u001b[0;34m=\u001b[0m\u001b[0;32mNone\u001b[0m\u001b[0;34m)\u001b[0m\u001b[0;34m\u001b[0m\u001b[0;34m\u001b[0m\u001b[0m\n\u001b[0m",
      "\u001b[0;31mNameError\u001b[0m: name 'geom' is not defined"
     ]
    }
   ],
   "source": [
    "sample_x = geom.utils.to_dense_batch(samplex, batch=sample.batch, fill_value=0, max_num_nodes=None)"
   ]
  },
  {
   "cell_type": "code",
   "execution_count": 77,
   "metadata": {},
   "outputs": [],
   "source": [
    " mixed_mask = torch.logical_or(batched_mask,batched_mask[randind])"
   ]
  },
  {
   "cell_type": "code",
   "execution_count": 92,
   "metadata": {},
   "outputs": [
    {
     "data": {
      "text/plain": [
       "'torch.LongTensor'"
      ]
     },
     "execution_count": 92,
     "metadata": {},
     "output_type": "execute_result"
    }
   ],
   "source": [
    "sample.batch.type()"
   ]
  },
  {
   "cell_type": "code",
   "execution_count": 93,
   "metadata": {},
   "outputs": [
    {
     "data": {
      "text/plain": [
       "tensor([  0,   0,   0,  ..., 127, 127, 127])"
      ]
     },
     "execution_count": 93,
     "metadata": {},
     "output_type": "execute_result"
    }
   ],
   "source": [
    "torch.cat([torch.Tensor([e_num] * m.sum()).long() for e_num,m in enumerate(mixed_mask)])"
   ]
  },
  {
   "cell_type": "code",
   "execution_count": 60,
   "metadata": {},
   "outputs": [
    {
     "ename": "NameError",
     "evalue": "name 'lam_expanded' is not defined",
     "output_type": "error",
     "traceback": [
      "\u001b[0;31m---------------------------------------------------------------------------\u001b[0m",
      "\u001b[0;31mNameError\u001b[0m                                 Traceback (most recent call last)",
      "\u001b[0;32m<ipython-input-60-1b83edbe3d2c>\u001b[0m in \u001b[0;36m<module>\u001b[0;34m()\u001b[0m\n\u001b[1;32m      1\u001b[0m \u001b[0;32mfor\u001b[0m \u001b[0mi\u001b[0m \u001b[0;32min\u001b[0m \u001b[0menumerate\u001b[0m\u001b[0;34m(\u001b[0m\u001b[0mrandind\u001b[0m\u001b[0;34m)\u001b[0m\u001b[0;34m:\u001b[0m\u001b[0;34m\u001b[0m\u001b[0;34m\u001b[0m\u001b[0m\n\u001b[0;32m----> 2\u001b[0;31m     \u001b[0mmixed\u001b[0m \u001b[0;34m=\u001b[0m \u001b[0mlam_expanded\u001b[0m \u001b[0;34m*\u001b[0m \u001b[0msample\u001b[0m\u001b[0;34m.\u001b[0m\u001b[0mx\u001b[0m\u001b[0;34m[\u001b[0m\u001b[0mtups\u001b[0m\u001b[0;34m[\u001b[0m\u001b[0mi\u001b[0m\u001b[0;34m]\u001b[0m\u001b[0;34m[\u001b[0m\u001b[0;36m0\u001b[0m\u001b[0;34m]\u001b[0m\u001b[0;34m:\u001b[0m\u001b[0mtups\u001b[0m\u001b[0;34m[\u001b[0m\u001b[0mi\u001b[0m\u001b[0;34m]\u001b[0m\u001b[0;34m[\u001b[0m\u001b[0;36m1\u001b[0m\u001b[0;34m]\u001b[0m\u001b[0;34m,\u001b[0m\u001b[0;34m:\u001b[0m\u001b[0;34m]\u001b[0m \u001b[0;34m+\u001b[0m \u001b[0;34m(\u001b[0m\u001b[0;36m1.\u001b[0m \u001b[0;34m-\u001b[0m \u001b[0mlam_expanded\u001b[0m\u001b[0;34m)\u001b[0m \u001b[0;34m*\u001b[0m \u001b[0msample\u001b[0m\u001b[0;34m.\u001b[0m\u001b[0mx\u001b[0m\u001b[0;34m[\u001b[0m\u001b[0mtups\u001b[0m\u001b[0;34m[\u001b[0m\u001b[0mrandind\u001b[0m\u001b[0;34m]\u001b[0m\u001b[0;34m[\u001b[0m\u001b[0;36m0\u001b[0m\u001b[0;34m]\u001b[0m\u001b[0;34m:\u001b[0m\u001b[0mtups\u001b[0m\u001b[0;34m[\u001b[0m\u001b[0mrandind\u001b[0m\u001b[0;34m]\u001b[0m\u001b[0;34m[\u001b[0m\u001b[0;36m1\u001b[0m\u001b[0;34m]\u001b[0m\u001b[0;34m,\u001b[0m\u001b[0;34m:\u001b[0m\u001b[0;34m]\u001b[0m\u001b[0;34m\u001b[0m\u001b[0;34m\u001b[0m\u001b[0m\n\u001b[0m",
      "\u001b[0;31mNameError\u001b[0m: name 'lam_expanded' is not defined"
     ]
    }
   ],
   "source": [
    "sample = torch.zeros_like(sample.x)\n",
    "for i in enumerate(randind):\n",
    "    sample[tupis[i][0][tup]] = lam_expanded[i] * sample.x[tups[i][0]:tups[i][1],:] + (1. - lam_expanded) * sample.x[tups[randind][0]:tups[randind][1],:]"
   ]
  },
  {
   "cell_type": "code",
   "execution_count": null,
   "metadata": {},
   "outputs": [],
   "source": [
    "#get the indices of x corresponding to each graph"
   ]
  },
  {
   "cell_type": "code",
   "execution_count": null,
   "metadata": {},
   "outputs": [],
   "source": [
    "def mixup(input, alpha):\n",
    "    \n",
    "    #mix adjacency \n",
    "    beta = torch.distributions.beta.Beta(alpha, alpha)\n",
    "    randind = torch.randperm(input['adj'].shape[0], device=input['adj'].device)\n",
    "    lam = beta.sample([input['adj'].shape[0]]).to(device=input['adj'].device)\n",
    "    lam = torch.max(lam, 1. - lam)\n",
    "    lam_expanded = lam.view([-1] + [1]*(input['adj'].dim()-1))\n",
    "    mixed_adj = lam_expanded * input['adj'] + (1. - lam_expanded) * input['adj'][randind]\n",
    "    \n",
    "    \n",
    "    #mix features to match!\n",
    "    beta = torch.distributions.beta.Beta(alpha, alpha)\n",
    "    randind = torch.randperm(input['x'].shape[0], device=input['x'].device)\n",
    "    lam = beta.sample([input['x'].shape[0]]).to(device=input['x'].device)\n",
    "    lam = torch.max(lam, 1. - lam)\n",
    "    lam_expanded = lam.view([-1] + [1]*(input['x'].dim()-1))\n",
    "    mixed_x = lam_expanded * input['x'] + (1. - lam_expanded) * input['x'][randind]\n",
    "    \n",
    "    #adjust the mask to match the mixed samples\n",
    "    mixed_mask = torch.logical_or(input['mask'],input['mask'][randind])\n",
    "    return mixed_adj,mixed_x, mixed_mask, randind, lam\n"
   ]
  },
  {
   "cell_type": "code",
   "execution_count": 29,
   "metadata": {},
   "outputs": [
    {
     "data": {
      "text/plain": [
       "tensor([[   0,    0,    1,  ..., 2246, 2247, 2248],\n",
       "        [   1,    9,    0,  ..., 2246, 2247, 2248]])"
      ]
     },
     "execution_count": 29,
     "metadata": {},
     "output_type": "execute_result"
    }
   ],
   "source": [
    " sparse_mtrx = [geom.utils.dense_to_sparse(a) for a in mixed_adj]"
   ]
  },
  {
   "cell_type": "code",
   "execution_count": null,
   "metadata": {},
   "outputs": [],
   "source": []
  },
  {
   "cell_type": "code",
   "execution_count": null,
   "metadata": {},
   "outputs": [],
   "source": []
  },
  {
   "cell_type": "code",
   "execution_count": 7,
   "metadata": {},
   "outputs": [
    {
     "name": "stdout",
     "output_type": "stream",
     "text": [
      "Percentage Pos:  0.155  Num Pos:  775\n",
      "Percentage Neg:  0.52  Num Neg:  2600\n",
      "Percentage Pos:  0.325  Num Pos:  1625\n"
     ]
    }
   ],
   "source": [
    "pos = 0\n",
    "neg = 0\n",
    "third = 0\n",
    "for _,d in dataset_eval:\n",
    "    if d.y.item() == 1:\n",
    "        pos += 1\n",
    "    elif d.y.item() == 0:\n",
    "        neg += 1\n",
    "    elif d.y.item() == 2:\n",
    "        third += 1\n",
    "    else:\n",
    "        print(\"ERROR\")\n",
    "#print(\"Percentage Pos: \",np.round(pos/(pos+neg),4),\" Num Pos: \",pos)\n",
    "#print(\"Percentage Neg: \",np.round(neg/(pos+neg),4),\" Num Neg: \",neg)\n",
    "\n",
    "print(\"Percentage Pos: \",np.round(pos/(pos+neg+third),4),\" Num Pos: \",pos)\n",
    "print(\"Percentage Neg: \",np.round(neg/(pos+neg+third),4),\" Num Neg: \",neg)\n",
    "print(\"Percentage Pos: \",np.round(third/(pos+neg+third),4),\" Num Pos: \",third)\n"
   ]
  },
  {
   "cell_type": "code",
   "execution_count": 8,
   "metadata": {},
   "outputs": [],
   "source": [
    "### book-keeping for initializing model\n",
    "device = torch.device(\"cuda\" if torch.cuda.is_available() else \"cpu\")\n",
    "\n",
    "device='cpu'"
   ]
  },
  {
   "cell_type": "markdown",
   "metadata": {},
   "source": [
    "### Train Model"
   ]
  },
  {
   "cell_type": "code",
   "execution_count": 9,
   "metadata": {},
   "outputs": [],
   "source": [
    "model = Supervised(args)\n",
    "model.to(device);\n",
    "optimizer = torch.optim.Adam(model.parameters(), lr=args.lr)\n",
    "best_ckpt = {}"
   ]
  },
  {
   "cell_type": "code",
   "execution_count": null,
   "metadata": {},
   "outputs": [],
   "source": []
  },
  {
   "cell_type": "code",
   "execution_count": 10,
   "metadata": {
    "scrolled": true
   },
   "outputs": [
    {
     "data": {
      "application/vnd.jupyter.widget-view+json": {
       "model_id": "a9f8535338d941ee91ea4f10ba040bd9",
       "version_major": 2,
       "version_minor": 0
      },
      "text/plain": [
       "HBox(children=(FloatProgress(value=0.0, max=2.0), HTML(value='')))"
      ]
     },
     "metadata": {},
     "output_type": "display_data"
    },
    {
     "name": "stdout",
     "output_type": "stream",
     "text": [
      "\n",
      "Best Epoch:  1\n",
      "Epoch: 1, Loss: 3.7693, Train Acc: 0.6509, Test Acc: 0.7895\n"
     ]
    },
    {
     "data": {
      "application/vnd.jupyter.widget-view+json": {
       "model_id": "f9170d738d6b4ff191b761e941ba37c5",
       "version_major": 2,
       "version_minor": 0
      },
      "text/plain": [
       "HBox(children=(FloatProgress(value=0.0, max=2.0), HTML(value='')))"
      ]
     },
     "metadata": {},
     "output_type": "display_data"
    },
    {
     "name": "stdout",
     "output_type": "stream",
     "text": [
      "\n",
      "Best Epoch:  2\n",
      "Epoch: 2, Loss: 2.0104, Train Acc: 0.6509, Test Acc: 0.7895\n"
     ]
    },
    {
     "data": {
      "application/vnd.jupyter.widget-view+json": {
       "model_id": "d8c9423c5e13422f92a490bf72bb6ecd",
       "version_major": 2,
       "version_minor": 0
      },
      "text/plain": [
       "HBox(children=(FloatProgress(value=0.0, max=2.0), HTML(value='')))"
      ]
     },
     "metadata": {},
     "output_type": "display_data"
    },
    {
     "name": "stdout",
     "output_type": "stream",
     "text": [
      "\n",
      "Best Epoch:  3\n",
      "Epoch: 3, Loss: 1.3186, Train Acc: 0.6509, Test Acc: 0.7895\n"
     ]
    },
    {
     "data": {
      "application/vnd.jupyter.widget-view+json": {
       "model_id": "fad6ab1edfb94a24b541a62cc2250fdb",
       "version_major": 2,
       "version_minor": 0
      },
      "text/plain": [
       "HBox(children=(FloatProgress(value=0.0, max=2.0), HTML(value='')))"
      ]
     },
     "metadata": {},
     "output_type": "display_data"
    },
    {
     "name": "stdout",
     "output_type": "stream",
     "text": [
      "\n",
      "Best Epoch:  4\n",
      "Epoch: 4, Loss: 0.6465, Train Acc: 0.6509, Test Acc: 0.7895\n"
     ]
    },
    {
     "data": {
      "application/vnd.jupyter.widget-view+json": {
       "model_id": "f6b3e9ed6f66475c877c578eb358fd81",
       "version_major": 2,
       "version_minor": 0
      },
      "text/plain": [
       "HBox(children=(FloatProgress(value=0.0, max=2.0), HTML(value='')))"
      ]
     },
     "metadata": {},
     "output_type": "display_data"
    },
    {
     "name": "stdout",
     "output_type": "stream",
     "text": [
      "\n",
      "Best Epoch:  5\n",
      "Epoch: 5, Loss: 0.6228, Train Acc: 0.6509, Test Acc: 0.7895\n"
     ]
    },
    {
     "data": {
      "application/vnd.jupyter.widget-view+json": {
       "model_id": "b9d995a01cd6404a9e0d6a3d7362abeb",
       "version_major": 2,
       "version_minor": 0
      },
      "text/plain": [
       "HBox(children=(FloatProgress(value=0.0, max=2.0), HTML(value='')))"
      ]
     },
     "metadata": {},
     "output_type": "display_data"
    },
    {
     "name": "stdout",
     "output_type": "stream",
     "text": [
      "\n",
      "Best Epoch:  6\n",
      "Epoch: 6, Loss: 0.3825, Train Acc: 0.6450, Test Acc: 0.7895\n"
     ]
    },
    {
     "data": {
      "application/vnd.jupyter.widget-view+json": {
       "model_id": "2396836ad2e8480f8e9d97ee79aa4c13",
       "version_major": 2,
       "version_minor": 0
      },
      "text/plain": [
       "HBox(children=(FloatProgress(value=0.0, max=2.0), HTML(value='')))"
      ]
     },
     "metadata": {},
     "output_type": "display_data"
    },
    {
     "name": "stdout",
     "output_type": "stream",
     "text": [
      "\n",
      "Best Epoch:  7\n",
      "Epoch: 7, Loss: 0.3350, Train Acc: 0.6509, Test Acc: 0.7895\n"
     ]
    },
    {
     "data": {
      "application/vnd.jupyter.widget-view+json": {
       "model_id": "f74f62e251c144fab91cd98a6c96072f",
       "version_major": 2,
       "version_minor": 0
      },
      "text/plain": [
       "HBox(children=(FloatProgress(value=0.0, max=2.0), HTML(value='')))"
      ]
     },
     "metadata": {},
     "output_type": "display_data"
    },
    {
     "name": "stdout",
     "output_type": "stream",
     "text": [
      "\n",
      "Best Epoch:  8\n",
      "Epoch: 8, Loss: 0.2325, Train Acc: 0.6509, Test Acc: 0.7895\n"
     ]
    },
    {
     "data": {
      "application/vnd.jupyter.widget-view+json": {
       "model_id": "809b8e840da54dbab25e6f7be9f6b01e",
       "version_major": 2,
       "version_minor": 0
      },
      "text/plain": [
       "HBox(children=(FloatProgress(value=0.0, max=2.0), HTML(value='')))"
      ]
     },
     "metadata": {},
     "output_type": "display_data"
    },
    {
     "name": "stdout",
     "output_type": "stream",
     "text": [
      "\n",
      "Best Epoch:  9\n",
      "Epoch: 9, Loss: 0.2246, Train Acc: 0.6627, Test Acc: 0.7895\n"
     ]
    },
    {
     "data": {
      "application/vnd.jupyter.widget-view+json": {
       "model_id": "da478e061671484eba6005e753b46d76",
       "version_major": 2,
       "version_minor": 0
      },
      "text/plain": [
       "HBox(children=(FloatProgress(value=0.0, max=2.0), HTML(value='')))"
      ]
     },
     "metadata": {},
     "output_type": "display_data"
    },
    {
     "name": "stdout",
     "output_type": "stream",
     "text": [
      "\n",
      "Best Epoch:  10\n",
      "Epoch: 10, Loss: 0.1920, Train Acc: 0.6746, Test Acc: 0.8421\n"
     ]
    },
    {
     "data": {
      "application/vnd.jupyter.widget-view+json": {
       "model_id": "b2abbfd0c4c44f2c847eb39f197514b0",
       "version_major": 2,
       "version_minor": 0
      },
      "text/plain": [
       "HBox(children=(FloatProgress(value=0.0, max=2.0), HTML(value='')))"
      ]
     },
     "metadata": {},
     "output_type": "display_data"
    },
    {
     "name": "stdout",
     "output_type": "stream",
     "text": [
      "\n",
      "Best Epoch:  11\n",
      "Epoch: 11, Loss: 0.1789, Train Acc: 0.7041, Test Acc: 0.8421\n"
     ]
    },
    {
     "data": {
      "application/vnd.jupyter.widget-view+json": {
       "model_id": "5c409cd1ec444e79b61881ba3f14bbcb",
       "version_major": 2,
       "version_minor": 0
      },
      "text/plain": [
       "HBox(children=(FloatProgress(value=0.0, max=2.0), HTML(value='')))"
      ]
     },
     "metadata": {},
     "output_type": "display_data"
    },
    {
     "name": "stdout",
     "output_type": "stream",
     "text": [
      "\n",
      "Best Epoch:  12\n",
      "Epoch: 12, Loss: 0.1617, Train Acc: 0.7278, Test Acc: 0.8421\n"
     ]
    },
    {
     "data": {
      "application/vnd.jupyter.widget-view+json": {
       "model_id": "afd81ef1459243748c4205980ceb8df7",
       "version_major": 2,
       "version_minor": 0
      },
      "text/plain": [
       "HBox(children=(FloatProgress(value=0.0, max=2.0), HTML(value='')))"
      ]
     },
     "metadata": {},
     "output_type": "display_data"
    },
    {
     "name": "stdout",
     "output_type": "stream",
     "text": [
      "\n",
      "Best Epoch:  13\n",
      "Epoch: 13, Loss: 0.1599, Train Acc: 0.7278, Test Acc: 0.8947\n"
     ]
    },
    {
     "data": {
      "application/vnd.jupyter.widget-view+json": {
       "model_id": "ff0b41bca5a747c9a934363602a28045",
       "version_major": 2,
       "version_minor": 0
      },
      "text/plain": [
       "HBox(children=(FloatProgress(value=0.0, max=2.0), HTML(value='')))"
      ]
     },
     "metadata": {},
     "output_type": "display_data"
    },
    {
     "name": "stdout",
     "output_type": "stream",
     "text": [
      "\n",
      "Best Epoch:  14\n",
      "Epoch: 14, Loss: 0.1458, Train Acc: 0.7456, Test Acc: 0.8947\n"
     ]
    },
    {
     "data": {
      "application/vnd.jupyter.widget-view+json": {
       "model_id": "9b7f802196c14e3a899774524827bbb0",
       "version_major": 2,
       "version_minor": 0
      },
      "text/plain": [
       "HBox(children=(FloatProgress(value=0.0, max=2.0), HTML(value='')))"
      ]
     },
     "metadata": {},
     "output_type": "display_data"
    },
    {
     "name": "stdout",
     "output_type": "stream",
     "text": [
      "\n",
      "Best Epoch:  15\n",
      "Epoch: 15, Loss: 0.1401, Train Acc: 0.7751, Test Acc: 0.7895\n"
     ]
    },
    {
     "data": {
      "application/vnd.jupyter.widget-view+json": {
       "model_id": "793c0abf56de4a40b353932949fcf483",
       "version_major": 2,
       "version_minor": 0
      },
      "text/plain": [
       "HBox(children=(FloatProgress(value=0.0, max=2.0), HTML(value='')))"
      ]
     },
     "metadata": {},
     "output_type": "display_data"
    },
    {
     "name": "stdout",
     "output_type": "stream",
     "text": [
      "\n",
      "Best Epoch:  16\n",
      "Epoch: 16, Loss: 0.1328, Train Acc: 0.7929, Test Acc: 0.8421\n"
     ]
    },
    {
     "data": {
      "application/vnd.jupyter.widget-view+json": {
       "model_id": "a364b23bb0be450586a383bf35a22b75",
       "version_major": 2,
       "version_minor": 0
      },
      "text/plain": [
       "HBox(children=(FloatProgress(value=0.0, max=2.0), HTML(value='')))"
      ]
     },
     "metadata": {},
     "output_type": "display_data"
    },
    {
     "name": "stdout",
     "output_type": "stream",
     "text": [
      "\n",
      "Best Epoch:  17\n",
      "Epoch: 17, Loss: 0.1259, Train Acc: 0.7929, Test Acc: 0.8421\n"
     ]
    },
    {
     "data": {
      "application/vnd.jupyter.widget-view+json": {
       "model_id": "3fb5efd1f1a7454fb099efc6eaa391ca",
       "version_major": 2,
       "version_minor": 0
      },
      "text/plain": [
       "HBox(children=(FloatProgress(value=0.0, max=2.0), HTML(value='')))"
      ]
     },
     "metadata": {},
     "output_type": "display_data"
    },
    {
     "name": "stdout",
     "output_type": "stream",
     "text": [
      "\n",
      "Best Epoch:  18\n",
      "Epoch: 18, Loss: 0.1200, Train Acc: 0.7929, Test Acc: 0.8947\n"
     ]
    },
    {
     "data": {
      "application/vnd.jupyter.widget-view+json": {
       "model_id": "795ba62a41bd43eeaa72439c0c420ea7",
       "version_major": 2,
       "version_minor": 0
      },
      "text/plain": [
       "HBox(children=(FloatProgress(value=0.0, max=2.0), HTML(value='')))"
      ]
     },
     "metadata": {},
     "output_type": "display_data"
    },
    {
     "name": "stdout",
     "output_type": "stream",
     "text": [
      "\n",
      "Best Epoch:  19\n",
      "Epoch: 19, Loss: 0.1117, Train Acc: 0.7988, Test Acc: 0.8947\n"
     ]
    },
    {
     "data": {
      "application/vnd.jupyter.widget-view+json": {
       "model_id": "c7ef3807e5514ba8b31f03b2737ab9af",
       "version_major": 2,
       "version_minor": 0
      },
      "text/plain": [
       "HBox(children=(FloatProgress(value=0.0, max=2.0), HTML(value='')))"
      ]
     },
     "metadata": {},
     "output_type": "display_data"
    },
    {
     "name": "stdout",
     "output_type": "stream",
     "text": [
      "\n",
      "Best Epoch:  20\n",
      "Epoch: 20, Loss: 0.1057, Train Acc: 0.8107, Test Acc: 0.8947\n"
     ]
    },
    {
     "data": {
      "application/vnd.jupyter.widget-view+json": {
       "model_id": "4b33e7e4620542e1935c4e9479d0af21",
       "version_major": 2,
       "version_minor": 0
      },
      "text/plain": [
       "HBox(children=(FloatProgress(value=0.0, max=2.0), HTML(value='')))"
      ]
     },
     "metadata": {},
     "output_type": "display_data"
    },
    {
     "name": "stdout",
     "output_type": "stream",
     "text": [
      "\n",
      "Best Epoch:  21\n",
      "Epoch: 21, Loss: 0.1024, Train Acc: 0.8225, Test Acc: 0.8947\n"
     ]
    },
    {
     "data": {
      "application/vnd.jupyter.widget-view+json": {
       "model_id": "4d95176e0008438ebd85a7da6f2573bd",
       "version_major": 2,
       "version_minor": 0
      },
      "text/plain": [
       "HBox(children=(FloatProgress(value=0.0, max=2.0), HTML(value='')))"
      ]
     },
     "metadata": {},
     "output_type": "display_data"
    },
    {
     "name": "stdout",
     "output_type": "stream",
     "text": [
      "\n",
      "Best Epoch:  22\n",
      "Epoch: 22, Loss: 0.0956, Train Acc: 0.8462, Test Acc: 0.8947\n"
     ]
    },
    {
     "data": {
      "application/vnd.jupyter.widget-view+json": {
       "model_id": "30719fcd1b8540788c46b8258c6cd5b2",
       "version_major": 2,
       "version_minor": 0
      },
      "text/plain": [
       "HBox(children=(FloatProgress(value=0.0, max=2.0), HTML(value='')))"
      ]
     },
     "metadata": {},
     "output_type": "display_data"
    },
    {
     "name": "stdout",
     "output_type": "stream",
     "text": [
      "\n",
      "Best Epoch:  23\n",
      "Epoch: 23, Loss: 0.0888, Train Acc: 0.8462, Test Acc: 0.7895\n"
     ]
    },
    {
     "data": {
      "application/vnd.jupyter.widget-view+json": {
       "model_id": "74faffeb5c8c4ef3945bd962173e7863",
       "version_major": 2,
       "version_minor": 0
      },
      "text/plain": [
       "HBox(children=(FloatProgress(value=0.0, max=2.0), HTML(value='')))"
      ]
     },
     "metadata": {},
     "output_type": "display_data"
    },
    {
     "name": "stdout",
     "output_type": "stream",
     "text": [
      "\n",
      "Best Epoch:  24\n",
      "Epoch: 24, Loss: 0.0886, Train Acc: 0.8580, Test Acc: 0.8421\n"
     ]
    },
    {
     "data": {
      "application/vnd.jupyter.widget-view+json": {
       "model_id": "b6302647669e46ea907a479abc988bf1",
       "version_major": 2,
       "version_minor": 0
      },
      "text/plain": [
       "HBox(children=(FloatProgress(value=0.0, max=2.0), HTML(value='')))"
      ]
     },
     "metadata": {},
     "output_type": "display_data"
    },
    {
     "name": "stdout",
     "output_type": "stream",
     "text": [
      "\n",
      "Epoch: 25, Loss: 0.0894, Train Acc: 0.8639, Test Acc: 0.8947\n"
     ]
    },
    {
     "data": {
      "application/vnd.jupyter.widget-view+json": {
       "model_id": "8b055fda5f004c2e8981dd98be10f8a0",
       "version_major": 2,
       "version_minor": 0
      },
      "text/plain": [
       "HBox(children=(FloatProgress(value=0.0, max=2.0), HTML(value='')))"
      ]
     },
     "metadata": {},
     "output_type": "display_data"
    },
    {
     "name": "stdout",
     "output_type": "stream",
     "text": [
      "\n",
      "Best Epoch:  26\n",
      "Epoch: 26, Loss: 0.0854, Train Acc: 0.8521, Test Acc: 0.8421\n"
     ]
    },
    {
     "data": {
      "application/vnd.jupyter.widget-view+json": {
       "model_id": "ec4b69d445544afa8d93fc4445cb52c6",
       "version_major": 2,
       "version_minor": 0
      },
      "text/plain": [
       "HBox(children=(FloatProgress(value=0.0, max=2.0), HTML(value='')))"
      ]
     },
     "metadata": {},
     "output_type": "display_data"
    },
    {
     "name": "stdout",
     "output_type": "stream",
     "text": [
      "\n",
      "Epoch: 27, Loss: 0.0903, Train Acc: 0.8994, Test Acc: 0.8947\n"
     ]
    },
    {
     "data": {
      "application/vnd.jupyter.widget-view+json": {
       "model_id": "383e41966e3d4d85ac340ff145f6d495",
       "version_major": 2,
       "version_minor": 0
      },
      "text/plain": [
       "HBox(children=(FloatProgress(value=0.0, max=2.0), HTML(value='')))"
      ]
     },
     "metadata": {},
     "output_type": "display_data"
    },
    {
     "name": "stdout",
     "output_type": "stream",
     "text": [
      "\n",
      "Best Epoch:  28\n",
      "Epoch: 28, Loss: 0.0849, Train Acc: 0.9172, Test Acc: 0.8947\n"
     ]
    },
    {
     "data": {
      "application/vnd.jupyter.widget-view+json": {
       "model_id": "977a47851fc248b4bbcce75c8934cbfa",
       "version_major": 2,
       "version_minor": 0
      },
      "text/plain": [
       "HBox(children=(FloatProgress(value=0.0, max=2.0), HTML(value='')))"
      ]
     },
     "metadata": {},
     "output_type": "display_data"
    },
    {
     "name": "stdout",
     "output_type": "stream",
     "text": [
      "\n",
      "Best Epoch:  29\n",
      "Epoch: 29, Loss: 0.0774, Train Acc: 0.8876, Test Acc: 0.8421\n"
     ]
    },
    {
     "data": {
      "application/vnd.jupyter.widget-view+json": {
       "model_id": "ed204befe1a1454c87b279948c7b4876",
       "version_major": 2,
       "version_minor": 0
      },
      "text/plain": [
       "HBox(children=(FloatProgress(value=0.0, max=2.0), HTML(value='')))"
      ]
     },
     "metadata": {},
     "output_type": "display_data"
    },
    {
     "name": "stdout",
     "output_type": "stream",
     "text": [
      "\n",
      "Best Epoch:  30\n",
      "Epoch: 30, Loss: 0.0771, Train Acc: 0.8994, Test Acc: 0.8947\n"
     ]
    }
   ],
   "source": [
    "best_loss = 1000\n",
    "for epoch in range(1, args.epochs+1):\n",
    "    loss_all = 0\n",
    "    model.train()\n",
    "    for data in tqdm.tqdm(dataloader):\n",
    "        #unpack the augmented version\n",
    "        data, _ = data\n",
    "        data.to(device)\n",
    "        pred = model(data.x, data.edge_index, data.batch, data.num_graphs)\n",
    "        L = torch.nn.CrossEntropyLoss()(pred,data.y)\n",
    "        \n",
    "        optimizer.zero_grad()\n",
    "        L.backward()\n",
    "        optimizer.step()\n",
    "        \n",
    "        loss_all += L.item()\n",
    "        \n",
    "    loss_all /= len(dataloader)\n",
    "\n",
    "    model.eval()\n",
    "    train_acc= test(model, dataloader, device)\n",
    "    test_acc= test(model, dataloader_eval, device)\n",
    "\n",
    "    if loss_all < best_loss:\n",
    "        best_ckpt['net'] = model.state_dict()\n",
    "        best_ckpt['epoch'] = epoch\n",
    "        best_ckpt['train_acc'] = train_acc\n",
    "        best_ckpt['test_acc'] = test_acc\n",
    "        best_loss = loss_all\n",
    "        print(\"Best Epoch: \",epoch)\n",
    "    print('Epoch: {0}, Loss: {1:.4f}, Train Acc: {2:.4f}, Test Acc: {3:.4f}'.format(epoch, loss_all,train_acc,test_acc))"
   ]
  },
  {
   "cell_type": "code",
   "execution_count": 11,
   "metadata": {},
   "outputs": [
    {
     "name": "stdout",
     "output_type": "stream",
     "text": [
      "Best Epoch: 30 Train Acc: 0.8994 Test Acc: 0.8947\n"
     ]
    }
   ],
   "source": [
    "print(\"Best Epoch: {0} Train Acc: {1:.4f} Test Acc: {2:.4f}\".format(best_ckpt['epoch'],best_ckpt['train_acc'],best_ckpt['test_acc']))\n",
    "model.load_state_dict(best_ckpt['net'])\n",
    "model.eval();"
   ]
  },
  {
   "cell_type": "markdown",
   "metadata": {},
   "source": [
    "### Compute Accuracies on Augmentations"
   ]
  },
  {
   "cell_type": "code",
   "execution_count": 12,
   "metadata": {},
   "outputs": [
    {
     "name": "stdout",
     "output_type": "stream",
     "text": [
      "Running Average:  0.4260355029585799\n",
      "Running Average:  0.40236686390532544\n",
      "Running Average:  0.40828402366863903\n",
      "Running Average:  0.40828402366863903\n",
      "Running Average:  0.40236686390532544\n"
     ]
    }
   ],
   "source": [
    "num_correct = 0\n",
    "avg_correct = 0\n",
    "accs \n",
    "for epoch in range(1, 5+1):\n",
    "    num_correct=0\n",
    "    for data_aug in dataloader:\n",
    "        #unpack the augmented version\n",
    "        _, data_aug = data_aug\n",
    "        data_aug.to(device)\n",
    "        pred = model(data_aug.x, data_aug.edge_index, data_aug.batch, data_aug.num_graphs)\n",
    "        pred = pred.argmax(dim=1)\n",
    "        target = data_aug.y\n",
    "        num_correct += pred.eq(target).sum().item()\n",
    "    avg_correct += num_correct / dataloader.dataset.__len__()\n",
    "    print('Running Average: ',num_correct / dataloader.dataset.__len__())\n"
   ]
  },
  {
   "cell_type": "code",
   "execution_count": 13,
   "metadata": {
    "scrolled": true
   },
   "outputs": [
    {
     "name": "stdout",
     "output_type": "stream",
     "text": [
      "**********\n",
      "Average Correct:  0.4094674556213017\n"
     ]
    }
   ],
   "source": [
    "avg_correct = avg_correct / 5\n",
    "print(\"*\"*10)\n",
    "print(\"Average Correct: \",avg_correct*100)\n",
    "print(\"Average Correct: \",avg_correct*100)"
   ]
  },
  {
   "cell_type": "markdown",
   "metadata": {},
   "source": [
    "## Create Plots"
   ]
  },
  {
   "cell_type": "code",
   "execution_count": null,
   "metadata": {},
   "outputs": [],
   "source": [
    "misclassification = {\n",
    "    'NCI1':[0.601],\n",
    "    'PROTEINS': [0.58],\n",
    "    'DD':[0.60],\n",
    "    'MUTAG':[0.39],\n",
    "    'REDDIT-BINARY':[0.66],\n",
    "    'IMDB-BINARY':[]\n",
    "}"
   ]
  },
  {
   "cell_type": "code",
   "execution_count": null,
   "metadata": {},
   "outputs": [],
   "source": [
    "best_ckpt['Aug_Acc'] = avg_correct\n",
    "torch.save(best_ckpt,\"{}_SUPERVISED.pkl\".format(DS))"
   ]
  },
  {
   "cell_type": "code",
   "execution_count": null,
   "metadata": {},
   "outputs": [],
   "source": []
  }
 ],
 "metadata": {
  "kernelspec": {
   "display_name": "Python 3",
   "language": "python",
   "name": "python3"
  },
  "language_info": {
   "codemirror_mode": {
    "name": "ipython",
    "version": 3
   },
   "file_extension": ".py",
   "mimetype": "text/x-python",
   "name": "python",
   "nbconvert_exporter": "python",
   "pygments_lexer": "ipython3",
   "version": "3.6.9"
  }
 },
 "nbformat": 4,
 "nbformat_minor": 4
}
