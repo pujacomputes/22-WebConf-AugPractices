{
 "cells": [
  {
   "cell_type": "code",
   "execution_count": 1,
   "metadata": {},
   "outputs": [],
   "source": [
    "import torch\n",
    "import matplotlib.pyplot as plt\n",
    "import seaborn as sns\n",
    "sns.set_style(\"whitegrid\")\n",
    "import glob\n",
    "import numpy as np"
   ]
  },
  {
   "cell_type": "markdown",
   "metadata": {},
   "source": [
    "### Load Files"
   ]
  },
  {
   "cell_type": "code",
   "execution_count": 15,
   "metadata": {},
   "outputs": [
    {
     "name": "stdout",
     "output_type": "stream",
     "text": [
      "['../BYOL_GRAPH_CKPTS/subjectivity_ADAM_64_30_128_s_0.1_n_0.1_window_4_rep_2/final.pth', '../BYOL_GRAPH_CKPTS/subjectivity_ADAM_64_30_128_s_0.1_n_0.1_window_4_rep_3/final.pth', '../BYOL_GRAPH_CKPTS/subjectivity_ADAM_64_30_128_s_0.1_n_0.1_window_4_rep_1/final.pth']\n"
     ]
    }
   ],
   "source": [
    "ckpt_list = []\n",
    "#\"../GRAPH_CKPTS/subjectivity_ADAM_64_30_128_s_0.1_s_0.1_rep_*\"\n",
    "#\"../GRAPH_CKPTS/subjectivity_ADAM_64_30_128_s_0.1_s_0.1_rep_*\"\n",
    "#for f in glob.glob(\"../GRAPH_CKPTS/subjectivity_ADAM_64_30_128_e_0.1_s_0.1_rep_*\"):\n",
    "#for f in glob.glob(\"../SIMCLR_GRAPH_CKPTS/subjectivity_ADAM_64_30_128_s_0.1_s_0.1_rep_*\"):\n",
    "ckpt_name = \"../BYOL_GRAPH_CKPTS/subjectivity_ADAM_64_30_128_s_0.1_n_0.1_window_4_rep_*/\"\n",
    "for f in glob.glob(ckpt_name):\n",
    "\n",
    "    ckpt_list.append(glob.glob(f+\"/final*\")[0])\n",
    "print(ckpt_list)\n"
   ]
  },
  {
   "cell_type": "code",
   "execution_count": 16,
   "metadata": {},
   "outputs": [],
   "source": [
    "graph_accs = {}\n",
    "graph_max_accs = {}\n",
    "graph_accs = []\n",
    "graph_max_accs = []\n",
    "for file_name in ckpt_list:\n",
    "    knn_acc =  torch.load(file_name,map_location='cpu')['stats']['knn_acc']\n",
    "    graph_accs.append(np.mean(knn_acc[-5:]))\n",
    "    graph_max_accs.append(np.max(knn_acc))"
   ]
  },
  {
   "cell_type": "code",
   "execution_count": 17,
   "metadata": {},
   "outputs": [
    {
     "data": {
      "text/plain": [
       "[0.6244897959183673, 0.6472989195678271, 0.6899959983993597]"
      ]
     },
     "execution_count": 17,
     "metadata": {},
     "output_type": "execute_result"
    }
   ],
   "source": [
    "graph_accs"
   ]
  },
  {
   "cell_type": "code",
   "execution_count": 18,
   "metadata": {},
   "outputs": [
    {
     "name": "stdout",
     "output_type": "stream",
     "text": [
      "Mean GRAPH: 65.3928,  2.7151\n",
      "\n",
      "Max GRAPH: 65.9997,  2.7830\n"
     ]
    }
   ],
   "source": [
    "print(\"Mean GRAPH: {0:.4f},  {1:.4f}\".format(np.mean(graph_accs)*100,np.std(graph_accs)*100))\n",
    "print()\n",
    "print(\"Max GRAPH: {0:.4f},  {1:.4f}\".format(np.mean(graph_max_accs)*100,np.std(graph_max_accs)*100))"
   ]
  },
  {
   "cell_type": "markdown",
   "metadata": {},
   "source": [
    "### NLP Aug"
   ]
  },
  {
   "cell_type": "code",
   "execution_count": 29,
   "metadata": {},
   "outputs": [
    {
     "name": "stdout",
     "output_type": "stream",
     "text": [
      "['../BYOL_NLP_CKPTS/subjectivity_ADAM_64_30_128_window_4_rep_3/final.pth', '../BYOL_NLP_CKPTS/subjectivity_ADAM_64_30_128_window_4_rep_2/final.pth', '../BYOL_NLP_CKPTS/subjectivity_ADAM_64_30_128_window_4_rep_1/final.pth']\n"
     ]
    }
   ],
   "source": [
    "nlp_ckpts = ['../NLP_CKPTS/subjectivity_ADAM_64_30_128_rep_0/final_subjectivity_ADAM_64_30_128_rep_0.pth',\n",
    "             '../NLP_CKPTS/subjectivity_ADAM_64_30_128_rep_1/final.pth',\n",
    "            '../NLP_CKPTS/subjectivity_ADAM_64_30_128_rep_2/final.pth']\n",
    "\n",
    "\n",
    "nlp_ckpts = ['../SIMCLR_NLP_CKPTS/subjectivity_ADAM_64_30_128_window_4_rep_1/final.pth',\n",
    "            '../SIMCLR_NLP_CKPTS/subjectivity_ADAM_64_30_128_window_4_rep_2/final.pth',\n",
    "            '../SIMCLR_NLP_CKPTS/subjectivity_ADAM_64_30_128_window_4_rep_3/final.pth']\n",
    "\n",
    "nlp_ckpts = ['../NLP_CKPTS/subjectivity_ADAM_64_30_128_window_4_rep_1/final.pth',\n",
    "             '../NLP_CKPTS/subjectivity_ADAM_64_30_128_window_4_rep_2/final.pth',\n",
    "             '../NLP_CKPTS/subjectivity_ADAM_64_30_128_window_4_rep_3/final.pth']\n",
    "\n",
    "ckpt_name = \"../BYOL_NLP_CKPTS/subjectivity_ADAM_64_30_128_rep_1/\"\n",
    "ckpt_name = \"../BYOL_NLP_CKPTS/subjectivity_ADAM_64_30_128_window_4_rep_*/\"\n",
    "\n",
    "nlp_ckpts = []\n",
    "for f in glob.glob(ckpt_name):\n",
    "\n",
    "    nlp_ckpts.append(glob.glob(f+\"/final*\")[0])\n",
    "print(nlp_ckpts)\n"
   ]
  },
  {
   "cell_type": "code",
   "execution_count": 27,
   "metadata": {},
   "outputs": [],
   "source": [
    "nlp_ckpts = [\n",
    "    \"../BYOL_NLP_CKPTS/subjectivity_ADAM_64_30_128_rep_1/`\"\n",
    "]"
   ]
  },
  {
   "cell_type": "code",
   "execution_count": 30,
   "metadata": {},
   "outputs": [],
   "source": [
    "nlp_accs = []\n",
    "nlp_max_accs = []\n",
    "for file_name in nlp_ckpts:\n",
    "    knn_acc =  torch.load(file_name,map_location='cpu')['stats']['knn_acc']\n",
    "    nlp_accs.append(np.mean(knn_acc[-5:]))\n",
    "    nlp_max_accs.append(np.max(knn_acc))"
   ]
  },
  {
   "cell_type": "code",
   "execution_count": 31,
   "metadata": {},
   "outputs": [
    {
     "data": {
      "text/plain": [
       "[0.7189275710284114, 0.8407362945178072, 0.7779111644657863]"
      ]
     },
     "execution_count": 31,
     "metadata": {},
     "output_type": "execute_result"
    }
   ],
   "source": [
    "nlp_accs"
   ]
  },
  {
   "cell_type": "code",
   "execution_count": 32,
   "metadata": {},
   "outputs": [
    {
     "name": "stdout",
     "output_type": "stream",
     "text": [
      "Mean NLP:  0.7791916766706684 0.04973644581296602\n",
      "Max NLP: 77.9192,  4.9736\n"
     ]
    }
   ],
   "source": [
    "print(\"Mean NLP: \",np.mean(nlp_accs),np.std(nlp_accs))\n",
    "print(\"Max NLP: {0:.4f},  {1:.4f}\".format(np.mean(nlp_accs)*100,np.std(nlp_accs)*100))"
   ]
  },
  {
   "cell_type": "code",
   "execution_count": 37,
   "metadata": {},
   "outputs": [
    {
     "name": "stderr",
     "output_type": "stream",
     "text": [
      "/home/sc/anaconda3/envs/tf/lib/python3.7/site-packages/ipykernel_launcher.py:1: VisibleDeprecationWarning: Creating an ndarray from ragged nested sequences (which is a list-or-tuple of lists-or-tuples-or ndarrays with different lengths or shapes) is deprecated. If you meant to do this, you must specify 'dtype=object' when creating the ndarray.\n",
      "  \"\"\"Entry point for launching an IPython kernel.\n"
     ]
    },
    {
     "ename": "IndexError",
     "evalue": "too many indices for array: array is 1-dimensional, but 2 were indexed",
     "output_type": "error",
     "traceback": [
      "\u001b[0;31m---------------------------------------------------------------------------\u001b[0m",
      "\u001b[0;31mIndexError\u001b[0m                                Traceback (most recent call last)",
      "\u001b[0;32m<ipython-input-37-3f20b69276be>\u001b[0m in \u001b[0;36m<module>\u001b[0;34m\u001b[0m\n\u001b[0;32m----> 1\u001b[0;31m \u001b[0mprint\u001b[0m\u001b[0;34m(\u001b[0m\u001b[0;34m\"NLP Accs: {0:.4f},  {1:.4f}\"\u001b[0m\u001b[0;34m.\u001b[0m\u001b[0mformat\u001b[0m\u001b[0;34m(\u001b[0m\u001b[0mnp\u001b[0m\u001b[0;34m.\u001b[0m\u001b[0mmean\u001b[0m\u001b[0;34m(\u001b[0m\u001b[0mnp\u001b[0m\u001b[0;34m.\u001b[0m\u001b[0mmean\u001b[0m\u001b[0;34m(\u001b[0m\u001b[0mnp\u001b[0m\u001b[0;34m.\u001b[0m\u001b[0marray\u001b[0m\u001b[0;34m(\u001b[0m\u001b[0mlist\u001b[0m\u001b[0;34m(\u001b[0m\u001b[0mnlp_accs\u001b[0m\u001b[0;34m.\u001b[0m\u001b[0mvalues\u001b[0m\u001b[0;34m(\u001b[0m\u001b[0;34m)\u001b[0m\u001b[0;34m)\u001b[0m\u001b[0;34m)\u001b[0m\u001b[0;34m[\u001b[0m\u001b[0;34m:\u001b[0m\u001b[0;34m,\u001b[0m\u001b[0;34m-\u001b[0m\u001b[0;36m5\u001b[0m\u001b[0;34m:\u001b[0m\u001b[0;34m]\u001b[0m\u001b[0;34m,\u001b[0m\u001b[0maxis\u001b[0m\u001b[0;34m=\u001b[0m\u001b[0;36m1\u001b[0m\u001b[0;34m)\u001b[0m\u001b[0;34m)\u001b[0m\u001b[0;34m,\u001b[0m\u001b[0mnp\u001b[0m\u001b[0;34m.\u001b[0m\u001b[0mstd\u001b[0m\u001b[0;34m(\u001b[0m\u001b[0mnp\u001b[0m\u001b[0;34m.\u001b[0m\u001b[0mmean\u001b[0m\u001b[0;34m(\u001b[0m\u001b[0mnp\u001b[0m\u001b[0;34m.\u001b[0m\u001b[0marray\u001b[0m\u001b[0;34m(\u001b[0m\u001b[0mlist\u001b[0m\u001b[0;34m(\u001b[0m\u001b[0mnlp_accs\u001b[0m\u001b[0;34m.\u001b[0m\u001b[0mvalues\u001b[0m\u001b[0;34m(\u001b[0m\u001b[0;34m)\u001b[0m\u001b[0;34m)\u001b[0m\u001b[0;34m)\u001b[0m\u001b[0;34m[\u001b[0m\u001b[0;34m:\u001b[0m\u001b[0;34m,\u001b[0m\u001b[0;34m-\u001b[0m\u001b[0;36m5\u001b[0m\u001b[0;34m:\u001b[0m\u001b[0;34m]\u001b[0m\u001b[0;34m,\u001b[0m\u001b[0maxis\u001b[0m\u001b[0;34m=\u001b[0m\u001b[0;36m1\u001b[0m\u001b[0;34m)\u001b[0m\u001b[0;34m)\u001b[0m\u001b[0;34m)\u001b[0m\u001b[0;34m)\u001b[0m\u001b[0;34m\u001b[0m\u001b[0;34m\u001b[0m\u001b[0m\n\u001b[0m",
      "\u001b[0;31mIndexError\u001b[0m: too many indices for array: array is 1-dimensional, but 2 were indexed"
     ]
    }
   ],
   "source": [
    "print(\"NLP Accs: {0:.4f},  {1:.4f}\".format(np.mean(np.mean(np.array(list(nlp_accs.values()))[:,-5:],axis=1)),np.std(np.mean(np.array(list(nlp_accs.values()))[:,-5:],axis=1))))"
   ]
  },
  {
   "cell_type": "code",
   "execution_count": 40,
   "metadata": {
    "scrolled": true
   },
   "outputs": [
    {
     "name": "stderr",
     "output_type": "stream",
     "text": [
      "/home/sc/anaconda3/envs/tf/lib/python3.7/site-packages/ipykernel_launcher.py:1: VisibleDeprecationWarning: Creating an ndarray from ragged nested sequences (which is a list-or-tuple of lists-or-tuples-or ndarrays with different lengths or shapes) is deprecated. If you meant to do this, you must specify 'dtype=object' when creating the ndarray.\n",
      "  \"\"\"Entry point for launching an IPython kernel.\n"
     ]
    },
    {
     "data": {
      "text/plain": [
       "array([list([0.8179271708683473, 0.8441376550620248, 0.8359343737494997, 0.8311324529811924, 0.8383353341336535, 0.8419367747098839, 0.8401360544217688, 0.8411364545818327, 0.8411364545818327, 0.8417366946778712, 0.8427370948379351, 0.8449379751900761, 0.8447378951580632, 0.8467386954781913, 0.8393357342937174, 0.8431372549019608, 0.8399359743897559, 0.8395358143257303, 0.8407362945178071, 0.8433373349339736, 0.828531412565026, 0.8181272509003601, 0.8139255702280912, 0.8127250900360145]),\n",
       "       list([0.8327330932372949, 0.8509403761504601, 0.8625450180072028, 0.8625450180072028, 0.8623449379751901, 0.8617446978791516, 0.8599439775910365, 0.8589435774309724, 0.8581432573029212, 0.8581432573029212, 0.8579431772709084, 0.8577430972388955, 0.8497398959583834, 0.8403361344537815, 0.8129251700680272, 0.81312525010004, 0.8305322128851541, 0.8305322128851541, 0.8329331732693077, 0.8341336534613846, 0.8405362144857943, 0.8433373349339736, 0.8415366146458584, 0.8433373349339736, 0.8445378151260504])],\n",
       "      dtype=object)"
      ]
     },
     "execution_count": 40,
     "metadata": {},
     "output_type": "execute_result"
    }
   ],
   "source": []
  },
  {
   "cell_type": "code",
   "execution_count": null,
   "metadata": {},
   "outputs": [],
   "source": []
  }
 ],
 "metadata": {
  "kernelspec": {
   "display_name": "Python 3",
   "language": "python",
   "name": "python3"
  },
  "language_info": {
   "codemirror_mode": {
    "name": "ipython",
    "version": 3
   },
   "file_extension": ".py",
   "mimetype": "text/x-python",
   "name": "python",
   "nbconvert_exporter": "python",
   "pygments_lexer": "ipython3",
   "version": "3.6.9"
  }
 },
 "nbformat": 4,
 "nbformat_minor": 5
}
