{
 "cells": [
  {
   "cell_type": "markdown",
   "metadata": {},
   "source": [
    "\n",
    "1. Check that each sentence has 85 augmentations.\n",
    "2. Include interior loop to create dictionary of augmentations.\n",
    "3. Iterate over dictionary and create a txt file for each of the augmented sentences. \n"
   ]
  },
  {
   "cell_type": "code",
   "execution_count": 1,
   "metadata": {},
   "outputs": [],
   "source": [
    "import collections\n",
    "import matplotlib.pyplot as plt\n",
    "import numpy as np"
   ]
  },
  {
   "cell_type": "code",
   "execution_count": 2,
   "metadata": {},
   "outputs": [],
   "source": [
    "#load augmentation file. \n",
    "dataset = \"subjectivity\"\n",
    "doc_name = \"../datasets/subjectivity_aug_85.txt\"\n",
    "doc_name_list = collections.defaultdict(list)\n",
    "idx = 0\n",
    "with open(doc_name, 'r') as f:\n",
    "    count = 0\n",
    "    for line in f.readlines():\n",
    "        if count < 86:\n",
    "            doc_name_list[idx].append(line.strip())\n",
    "            count += 1\n",
    "        if count == 86:\n",
    "            idx += 1\n",
    "            count = 0"
   ]
  },
  {
   "cell_type": "code",
   "execution_count": 3,
   "metadata": {},
   "outputs": [
    {
     "data": {
      "text/plain": [
       "(array([    0.,     0.,     0.,     0.,     0., 10000.,     0.,     0.,\n",
       "            0.,     0.]),\n",
       " array([85.5, 85.6, 85.7, 85.8, 85.9, 86. , 86.1, 86.2, 86.3, 86.4, 86.5]),\n",
       " <a list of 10 Patch objects>)"
      ]
     },
     "execution_count": 3,
     "metadata": {},
     "output_type": "execute_result"
    },
    {
     "data": {
      "image/png": "[encoded data removed]",
      "text/plain": [
       "<Figure size 432x288 with 1 Axes>"
      ]
     },
     "metadata": {
      "needs_background": "light"
     },
     "output_type": "display_data"
    }
   ],
   "source": [
    "len_list = []\n",
    "for key,values in doc_name_list.items():\n",
    "    len_list.append(len(values))\n",
    "plt.hist(len_list)"
   ]
  },
  {
   "cell_type": "code",
   "execution_count": 4,
   "metadata": {
    "scrolled": true
   },
   "outputs": [
    {
     "name": "stdout",
     "output_type": "stream",
     "text": [
      "=> Processed:  0\n",
      "=> Processed:  1\n",
      "=> Processed:  2\n",
      "=> Processed:  3\n",
      "=> Processed:  4\n",
      "=> Processed:  5\n",
      "=> Processed:  6\n",
      "=> Processed:  7\n",
      "=> Processed:  8\n",
      "=> Processed:  9\n",
      "=> Processed:  10\n",
      "=> Processed:  11\n",
      "=> Processed:  12\n",
      "=> Processed:  13\n",
      "=> Processed:  14\n",
      "=> Processed:  15\n",
      "=> Processed:  16\n",
      "=> Processed:  17\n",
      "=> Processed:  18\n",
      "=> Processed:  19\n",
      "=> Processed:  20\n",
      "=> Processed:  21\n",
      "=> Processed:  22\n",
      "=> Processed:  23\n",
      "=> Processed:  24\n",
      "=> Processed:  25\n",
      "=> Processed:  26\n",
      "=> Processed:  27\n",
      "=> Processed:  28\n",
      "=> Processed:  29\n",
      "=> Processed:  30\n",
      "=> Processed:  31\n",
      "=> Processed:  32\n",
      "=> Processed:  33\n",
      "=> Processed:  34\n",
      "=> Processed:  35\n",
      "=> Processed:  36\n",
      "=> Processed:  37\n",
      "=> Processed:  38\n",
      "=> Processed:  39\n",
      "=> Processed:  40\n",
      "=> Processed:  41\n",
      "=> Processed:  42\n",
      "=> Processed:  43\n",
      "=> Processed:  44\n",
      "=> Processed:  45\n",
      "=> Processed:  46\n",
      "=> Processed:  47\n",
      "=> Processed:  48\n",
      "=> Processed:  49\n",
      "=> Processed:  50\n",
      "=> Processed:  51\n",
      "=> Processed:  52\n",
      "=> Processed:  53\n",
      "=> Processed:  54\n",
      "=> Processed:  55\n",
      "=> Processed:  56\n",
      "=> Processed:  57\n",
      "=> Processed:  58\n",
      "=> Processed:  59\n",
      "=> Processed:  60\n",
      "=> Processed:  61\n",
      "=> Processed:  62\n",
      "=> Processed:  63\n",
      "=> Processed:  64\n",
      "=> Processed:  65\n",
      "=> Processed:  66\n",
      "=> Processed:  67\n",
      "=> Processed:  68\n",
      "=> Processed:  69\n",
      "=> Processed:  70\n",
      "=> Processed:  71\n",
      "=> Processed:  72\n",
      "=> Processed:  73\n",
      "=> Processed:  74\n",
      "=> Processed:  75\n",
      "=> Processed:  76\n",
      "=> Processed:  77\n",
      "=> Processed:  78\n",
      "=> Processed:  79\n",
      "=> Processed:  80\n",
      "=> Processed:  81\n",
      "=> Processed:  82\n",
      "=> Processed:  83\n",
      "=> Processed:  84\n",
      "=> Processed:  85\n"
     ]
    }
   ],
   "source": [
    "for i in range(0,86):\n",
    "    with open(\"../datasets/subjectivity/{}.txt\".format(i), 'w') as file:\n",
    "        for k,v in doc_name_list.items():\n",
    "            file.writelines(\"{}\\n\".format(v[i]))\n",
    "    print(\"=> Processed: \",i)    "
   ]
  },
  {
   "cell_type": "code",
   "execution_count": 5,
   "metadata": {},
   "outputs": [
    {
     "data": {
      "text/plain": [
       "Text(0.5, 1.0, 'Unique Items')"
      ]
     },
     "execution_count": 5,
     "metadata": {},
     "output_type": "execute_result"
    },
    {
     "data": {
      "image/png": "[encoded data removed]",
      "text/plain": [
       "<Figure size 432x288 with 1 Axes>"
      ]
     },
     "metadata": {
      "needs_background": "light"
     },
     "output_type": "display_data"
    }
   ],
   "source": [
    "unique_list = []\n",
    "str_len = []\n",
    "for key,values in doc_name_list.items():\n",
    "    unique_list.append(len(list(set(values))))\n",
    "    str_len.append(len(values[0].split(\"\\t\")[1]))\n",
    "plt.hist(unique_list)\n",
    "plt.title(\"Unique Items\")"
   ]
  },
  {
   "cell_type": "code",
   "execution_count": 6,
   "metadata": {},
   "outputs": [
    {
     "data": {
      "text/plain": [
       "Text(0.5, 1.0, 'String Length')"
      ]
     },
     "execution_count": 6,
     "metadata": {},
     "output_type": "execute_result"
    },
    {
     "data": {
      "image/png": "[encoded data removed]",
      "text/plain": [
       "<Figure size 432x288 with 1 Axes>"
      ]
     },
     "metadata": {
      "needs_background": "light"
     },
     "output_type": "display_data"
    }
   ],
   "source": [
    "plt.hist(str_len,bins=100);\n",
    "plt.title(\"String Length\")"
   ]
  },
  {
   "cell_type": "code",
   "execution_count": 7,
   "metadata": {},
   "outputs": [
    {
     "data": {
      "text/plain": [
       "Text(0.5, 1.0, 'Length vs. Unique')"
      ]
     },
     "execution_count": 7,
     "metadata": {},
     "output_type": "execute_result"
    },
    {
     "data": {
      "image/png": "[encoded data removed]",
      "text/plain": [
       "<Figure size 432x288 with 1 Axes>"
      ]
     },
     "metadata": {
      "needs_background": "light"
     },
     "output_type": "display_data"
    }
   ],
   "source": [
    "plt.scatter(str_len,unique_list)\n",
    "plt.title(\"Length vs. Unique\")"
   ]
  },
  {
   "cell_type": "code",
   "execution_count": 8,
   "metadata": {},
   "outputs": [],
   "source": [
    "for key,values in doc_name_list.items():\n",
    "    new_vals = list(set(values))\n",
    "    if len(new_vals) < 30:\n",
    "        print(\"SKIPPING: \",key)\n",
    "    else:\n",
    "        doc_name_list[key] = new_vals"
   ]
  },
  {
   "cell_type": "code",
   "execution_count": 21,
   "metadata": {
    "scrolled": true
   },
   "outputs": [
    {
     "name": "stdout",
     "output_type": "stream",
     "text": [
      "SKIPPING:  9786\n"
     ]
    }
   ],
   "source": [
    "skip_key = np.nan\n",
    "for key,values in doc_name_list.items():\n",
    "    new_vals = list(set(values))\n",
    "    if len(new_vals) < 40:\n",
    "        print(\"SKIPPING: \",key)\n",
    "        skip_key = key\n",
    "    else:\n",
    "        doc_name_list[key] = new_vals\n",
    "doc_name_list.pop(skip_key);"
   ]
  },
  {
   "cell_type": "code",
   "execution_count": 22,
   "metadata": {},
   "outputs": [
    {
     "name": "stdout",
     "output_type": "stream",
     "text": [
      "Minimum Unique Samples:  51\n"
     ]
    }
   ],
   "source": [
    "#get minimum augmented sample number. \n",
    "min_sample = min([len(i)for i in doc_name_list.values()])\n",
    "print(\"Minimum Unique Samples: \",min_sample)"
   ]
  },
  {
   "cell_type": "code",
   "execution_count": 23,
   "metadata": {
    "scrolled": true
   },
   "outputs": [
    {
     "name": "stdout",
     "output_type": "stream",
     "text": [
      "=> Processed:  0\n",
      "=> Processed:  1\n",
      "=> Processed:  2\n",
      "=> Processed:  3\n",
      "=> Processed:  4\n",
      "=> Processed:  5\n",
      "=> Processed:  6\n",
      "=> Processed:  7\n",
      "=> Processed:  8\n",
      "=> Processed:  9\n",
      "=> Processed:  10\n",
      "=> Processed:  11\n",
      "=> Processed:  12\n",
      "=> Processed:  13\n",
      "=> Processed:  14\n",
      "=> Processed:  15\n",
      "=> Processed:  16\n",
      "=> Processed:  17\n",
      "=> Processed:  18\n",
      "=> Processed:  19\n",
      "=> Processed:  20\n",
      "=> Processed:  21\n",
      "=> Processed:  22\n",
      "=> Processed:  23\n",
      "=> Processed:  24\n",
      "=> Processed:  25\n",
      "=> Processed:  26\n",
      "=> Processed:  27\n",
      "=> Processed:  28\n",
      "=> Processed:  29\n",
      "=> Processed:  30\n",
      "=> Processed:  31\n",
      "=> Processed:  32\n",
      "=> Processed:  33\n",
      "=> Processed:  34\n",
      "=> Processed:  35\n",
      "=> Processed:  36\n",
      "=> Processed:  37\n",
      "=> Processed:  38\n",
      "=> Processed:  39\n",
      "=> Processed:  40\n",
      "=> Processed:  41\n",
      "=> Processed:  42\n",
      "=> Processed:  43\n",
      "=> Processed:  44\n",
      "=> Processed:  45\n",
      "=> Processed:  46\n",
      "=> Processed:  47\n",
      "=> Processed:  48\n",
      "=> Processed:  49\n",
      "=> Processed:  50\n"
     ]
    }
   ],
   "source": [
    "for i in range(0,min_sample):\n",
    "    with open(\"../datasets/subjectivity/unique/{}.txt\".format(i), 'w') as file:\n",
    "        for k,v in doc_name_list.items():\n",
    "            file.writelines(\"{}\\n\".format(v[i]))\n",
    "    print(\"=> Processed: \",i)    "
   ]
  },
  {
   "cell_type": "code",
   "execution_count": 24,
   "metadata": {},
   "outputs": [],
   "source": [
    "with open(\"../datasets/subjectivity/unique/consolidated.txt\", 'w') as file:\n",
    "    for k,v in doc_name_list.items():\n",
    "        for i in range(0,min_sample):\n",
    "            file.writelines(\"{}\\n\".format(v[i]))"
   ]
  },
  {
   "cell_type": "code",
   "execution_count": null,
   "metadata": {},
   "outputs": [],
   "source": [
    "!head -n41 ../datasets/subjectivity/unique/consolidated.txt"
   ]
  },
  {
   "cell_type": "code",
   "execution_count": null,
   "metadata": {},
   "outputs": [],
   "source": [
    "! head -n10 ../datasets/subjectivity/unique/consolidated.txt"
   ]
  },
  {
   "cell_type": "code",
   "execution_count": null,
   "metadata": {},
   "outputs": [],
   "source": [
    "!head -n5 ../datasets/subjectivity.txt"
   ]
  },
  {
   "cell_type": "code",
   "execution_count": null,
   "metadata": {},
   "outputs": [],
   "source": []
  }
 ],
 "metadata": {
  "kernelspec": {
   "display_name": "Python 3",
   "language": "python",
   "name": "python3"
  },
  "language_info": {
   "codemirror_mode": {
    "name": "ipython",
    "version": 3
   },
   "file_extension": ".py",
   "mimetype": "text/x-python",
   "name": "python",
   "nbconvert_exporter": "python",
   "pygments_lexer": "ipython3",
   "version": "3.6.9"
  }
 },
 "nbformat": 4,
 "nbformat_minor": 4
}
